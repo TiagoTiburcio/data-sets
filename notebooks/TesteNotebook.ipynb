{
 "metadata": {
  "language_info": {
   "codemirror_mode": {
    "name": "ipython",
    "version": 3
   },
   "file_extension": ".py",
   "mimetype": "text/x-python",
   "name": "python",
   "nbconvert_exporter": "python",
   "pygments_lexer": "ipython3",
   "version": "3.8.2"
  },
  "orig_nbformat": 2,
  "kernelspec": {
   "name": "python382jvsc74a57bd0b8c2041615981baba3512fc79e557eb7802503176d170fcd76fd22ec0799a028",
   "display_name": "Python 3.8.2 32-bit"
  },
  "metadata": {
   "interpreter": {
    "hash": "b8c2041615981baba3512fc79e557eb7802503176d170fcd76fd22ec0799a028"
   }
  }
 },
 "nbformat": 4,
 "nbformat_minor": 2,
 "cells": [
  {
   "cell_type": "code",
   "execution_count": 2,
   "metadata": {},
   "outputs": [],
   "source": [
    "import pandas as pd\n",
    "import numpy as np\n",
    "import datetime as dt\n",
    "import sys\n",
    "from user_agents import parse\n",
    "from geolite2 import geolite2"
   ]
  },
  {
   "cell_type": "code",
   "execution_count": 11,
   "metadata": {},
   "outputs": [],
   "source": [
    "path = 'u_ex21022218.log'\n",
    "saida = 'teste.csv'\n",
    "puro = pd.read_fwf(path, header=None)\n",
    "if 1 in puro.columns:\n",
    "    array = puro.loc[(puro[1].isnull())][0]\n",
    "elif 0 in puro.columns:\n",
    "    array = puro[0]\n",
    "puro = pd.DataFrame({\"linha\":array }) \n",
    "dados = puro[~puro[\"linha\"].str.contains(\"#\")].copy()\n",
    "dados = pd.DataFrame(dados.linha.str.split(' ').tolist())\n",
    "dados['data_hora'] = pd.to_datetime(dados[0] + ' ' + dados[1])\n",
    "dados['data_hora'] = dados['data_hora'] + dt.timedelta(hours = -3)\n",
    "dados['sevidor_nm_site_iis'] = dados[2]\n",
    "dados['servidor_nm'] = dados[3]\n",
    "dados['servidor_ip'] = dados[4]\n",
    "dados['requisicao_method'] = dados[5]\n",
    "dados['requisicao_recurso'] = dados[6]\n",
    "dados['requisicao_query'] = dados[7]\n",
    "dados['requisicao_port'] = pd.to_numeric(dados[8])\n",
    "dados['requisicao_usuario'] = dados[9]\n",
    "dados['cliente_ip'] = dados[10]\n",
    "dados['requisicao_protocolo'] = dados[11]\n",
    "dados['cliente_user_agent'] = dados[12]\n",
    "dados['requisicao_url_origem'] = dados[14]\n",
    "dados['servidor_nm_site'] = dados[15]\n",
    "dados['requisicao_cod_resposta'] = pd.to_numeric(dados[16])\n",
    "dados['requisicao_dados_enviados'] = pd.to_numeric(dados[19])\n",
    "dados['requisicao_dados_recebidos'] = pd.to_numeric(dados[20])\n",
    "dados['requisicao_tempo_resposta'] = pd.to_numeric(dados[21])\n",
    "dados['arquivo'] = path\n",
    "dados = dados.drop([0,1,2,3,4,5,6,7,8,9,10,11,12,13,14,15,16,17,18,19,20,21], axis=1).copy()\n",
    "nm_agents = dados.cliente_user_agent.unique()\n",
    "browser_family = []\n",
    "browser_version = []\n",
    "os_family = []\n",
    "os_version = []\n",
    "device_family = []\n",
    "device_model = []\n",
    "device_brand = []\n",
    "for x in nm_agents:\n",
    "  user_agent = parse(x)\n",
    "  browser_family.append(user_agent.browser.family)\n",
    "  browser_version.append(user_agent.browser.version_string)\n",
    "  os_family.append(user_agent.os.family)\n",
    "  os_version.append(user_agent.os.version_string)\n",
    "  device_family.append(user_agent.device.family)\n",
    "  device_model.append(user_agent.device.model)\n",
    "  device_brand.append(user_agent.device.brand)\n",
    "dispositivo = pd.DataFrame(\n",
    "    {\"cliente_user_agent\":nm_agents, \n",
    "     \"os_family\": os_family, \n",
    "     \"os_version\": os_version, \n",
    "     \"device_family\": device_family, \n",
    "     \"device_model\": device_model, \n",
    "     \"device_brand\": device_brand, \n",
    "     \"browser_family\": browser_family,\n",
    "     \"browser_version\": browser_version     \n",
    "     })\n",
    "dados =  pd.merge(dados, dispositivo , sort=True, copy=True, on=\"cliente_user_agent\")\n",
    "dados = dados.drop(['cliente_user_agent'], axis=1).copy()\n",
    "ip_clients = dados.cliente_ip.unique()\n",
    "def get_country(ip):\n",
    "    try:\n",
    "        x = geo.get(ip)\n",
    "    except ValueError:\n",
    "        return np.nan\n",
    "    try:\n",
    "        return x['country']['names']['en'] if x else np.nan\n",
    "    except KeyError:\n",
    "        return np.nan\n",
    "\n",
    "geo = geolite2.reader()\n",
    "\n",
    "pais_ip =  pd.DataFrame({\"cliente_ip\":ip_clients}) \n",
    "# get unique IPs\n",
    "unique_ips = pais_ip['cliente_ip'].unique()\n",
    "# make series out of it\n",
    "unique_ips = pd.Series(unique_ips, index = unique_ips)\n",
    "# map IP --> country\n",
    "pais_ip['cliente_pais'] = pais_ip['cliente_ip'].map(unique_ips.apply(get_country))\n",
    "\n",
    "geolite2.close()\n",
    "dados =  pd.merge(dados, pais_ip , sort=True, copy=True, on=\"cliente_ip\")\n",
    "dados.to_csv(saida , index=False)"
   ]
  },
  {
   "cell_type": "code",
   "execution_count": 12,
   "metadata": {},
   "outputs": [
    {
     "output_type": "execute_result",
     "data": {
      "text/plain": [
       "         cliente_ip   cliente_pais\n",
       "0    190.231.109.85      Argentina\n",
       "1      66.249.68.90  United States\n",
       "2      66.249.68.75  United States\n",
       "3      66.249.68.88  United States\n",
       "4      66.249.68.77  United States\n",
       "..              ...            ...\n",
       "517   69.171.249.24  United States\n",
       "518    69.171.249.7  United States\n",
       "519    69.171.249.1  United States\n",
       "520  69.171.249.117  United States\n",
       "521   69.171.249.19  United States\n",
       "\n",
       "[522 rows x 2 columns]"
      ],
      "text/html": "<div>\n<style scoped>\n    .dataframe tbody tr th:only-of-type {\n        vertical-align: middle;\n    }\n\n    .dataframe tbody tr th {\n        vertical-align: top;\n    }\n\n    .dataframe thead th {\n        text-align: right;\n    }\n</style>\n<table border=\"1\" class=\"dataframe\">\n  <thead>\n    <tr style=\"text-align: right;\">\n      <th></th>\n      <th>cliente_ip</th>\n      <th>cliente_pais</th>\n    </tr>\n  </thead>\n  <tbody>\n    <tr>\n      <th>0</th>\n      <td>190.231.109.85</td>\n      <td>Argentina</td>\n    </tr>\n    <tr>\n      <th>1</th>\n      <td>66.249.68.90</td>\n      <td>United States</td>\n    </tr>\n    <tr>\n      <th>2</th>\n      <td>66.249.68.75</td>\n      <td>United States</td>\n    </tr>\n    <tr>\n      <th>3</th>\n      <td>66.249.68.88</td>\n      <td>United States</td>\n    </tr>\n    <tr>\n      <th>4</th>\n      <td>66.249.68.77</td>\n      <td>United States</td>\n    </tr>\n    <tr>\n      <th>...</th>\n      <td>...</td>\n      <td>...</td>\n    </tr>\n    <tr>\n      <th>517</th>\n      <td>69.171.249.24</td>\n      <td>United States</td>\n    </tr>\n    <tr>\n      <th>518</th>\n      <td>69.171.249.7</td>\n      <td>United States</td>\n    </tr>\n    <tr>\n      <th>519</th>\n      <td>69.171.249.1</td>\n      <td>United States</td>\n    </tr>\n    <tr>\n      <th>520</th>\n      <td>69.171.249.117</td>\n      <td>United States</td>\n    </tr>\n    <tr>\n      <th>521</th>\n      <td>69.171.249.19</td>\n      <td>United States</td>\n    </tr>\n  </tbody>\n</table>\n<p>522 rows × 2 columns</p>\n</div>"
     },
     "metadata": {},
     "execution_count": 12
    }
   ],
   "source": [
    "pais_ip"
   ]
  },
  {
   "cell_type": "code",
   "execution_count": null,
   "metadata": {},
   "outputs": [],
   "source": []
  }
 ]
}
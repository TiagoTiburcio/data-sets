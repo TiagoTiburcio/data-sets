{
  "nbformat": 4,
  "nbformat_minor": 0,
  "metadata": {
    "colab": {
      "name": "ImportLogIIS.ipynb",
      "provenance": [],
      "collapsed_sections": [],
      "authorship_tag": "ABX9TyP1p3kqVZptFPm/WyDghTX9",
      "include_colab_link": true
    },
    "kernelspec": {
      "display_name": "Python 3",
      "name": "python3"
    },
    "language_info": {
      "name": "python"
    }
  },
  "cells": [
    {
      "cell_type": "markdown",
      "metadata": {
        "id": "view-in-github",
        "colab_type": "text"
      },
      "source": [
        "<a href=\"https://colab.research.google.com/github/TiagoTiburcio/data-sets/blob/main/ImportLogIIS.ipynb\" target=\"_parent\"><img src=\"https://colab.research.google.com/assets/colab-badge.svg\" alt=\"Open In Colab\"/></a>"
      ]
    },
    {
      "cell_type": "code",
      "metadata": {
        "id": "NLXQrUUDG-Cf"
      },
      "source": [
        "pip install pyyaml ua-parser user-agents maxminddb-geolite2"
      ],
      "execution_count": null,
      "outputs": []
    },
    {
      "cell_type": "code",
      "metadata": {
        "id": "u4TlYH8r2QvZ"
      },
      "source": [
        "import pandas as pd\n",
        "import numpy as np\n",
        "import datetime as dt\n",
        "from google.colab import drive\n",
        "from google.colab import files\n",
        "from user_agents import parse\n",
        "from geolite2 import geolite2"
      ],
      "execution_count": 74,
      "outputs": []
    },
    {
      "cell_type": "code",
      "metadata": {
        "id": "pXtT9Ia_7_-H"
      },
      "source": [
        "drive.mount('/content/drive')"
      ],
      "execution_count": null,
      "outputs": []
    },
    {
      "cell_type": "code",
      "metadata": {
        "id": "WeiK4tLuFfRQ"
      },
      "source": [
        "path = '/content/drive/MyDrive/u_ex21032913.log'\n",
        "puro = pd.read_fwf(path, names=['linha'])\n",
        "dados = puro[~puro[\"linha\"].str.contains(\"#\")].copy()\n",
        "dados = pd.DataFrame(dados.linha.str.split(' ').tolist())\n",
        "dados['data_hora'] = pd.to_datetime(dados[0] + ' ' + dados[1])\n",
        "dados['data_hora'] = dados['data_hora'] + dt.timedelta(hours = -3)\n",
        "dados['sevidor_nm_site_iis'] = dados[2]\n",
        "dados['servidor_nm'] = dados[3]\n",
        "dados['servidor_ip'] = dados[4]\n",
        "dados['requisicao_method'] = dados[5]\n",
        "dados['requisicao_recurso'] = dados[6]\n",
        "dados['requisicao_query'] = dados[7]\n",
        "dados['requisicao_port'] = pd.to_numeric(dados[8])\n",
        "dados['requisicao_usuario'] = dados[9]\n",
        "dados['cliente_ip'] = dados[10]\n",
        "dados['requisicao_protocolo'] = dados[11]\n",
        "dados['cliente_user_agent'] = dados[12]\n",
        "dados['cliente_cookie'] = dados[13]\n",
        "dados['requisicao_url_origem'] = dados[14]\n",
        "dados['servidor_nm_site'] = dados[15]\n",
        "dados['requisicao_cod_resposta'] = pd.to_numeric(dados[16])\n",
        "dados['requisicao_dados_enviados'] = pd.to_numeric(dados[19])\n",
        "dados['requisicao_dados_recebidos'] = pd.to_numeric(dados[20])\n",
        "dados['requisicao_tempo_resposta'] = pd.to_numeric(dados[21])\n",
        "dados['arquivo'] = path\n",
        "dados = dados.drop([0,1,2,3,4,5,6,7,8,9,10,11,12,13,14,15,16,17,18,19,20,21], axis=1).copy()\n",
        "nm_agents = dados.cliente_user_agent.unique()\n",
        "browser_family = []\n",
        "browser_version = []\n",
        "os_family = []\n",
        "os_version = []\n",
        "device_family = []\n",
        "device_model = []\n",
        "device_brand = []\n",
        "for x in nm_agents:\n",
        "  user_agent = parse(x)\n",
        "  browser_family.append(user_agent.browser.family)\n",
        "  browser_version.append(user_agent.browser.version_string)\n",
        "  os_family.append(user_agent.os.family)\n",
        "  os_version.append(user_agent.os.version_string)\n",
        "  device_family.append(user_agent.device.family)\n",
        "  device_model.append(user_agent.device.model)\n",
        "  device_brand.append(user_agent.device.brand)\n",
        "dispositivo = pd.DataFrame(\n",
        "    {\"cliente_user_agent\":nm_agents, \n",
        "     \"os_family\": os_family, \n",
        "     \"os_version\": os_version, \n",
        "     \"device_family\": device_family, \n",
        "     \"device_model\": device_model, \n",
        "     \"device_brand\": device_brand, \n",
        "     \"browser_family\": browser_family,\n",
        "     \"browser_version\": browser_version     \n",
        "     })\n",
        "dados =  pd.merge(dados, dispositivo , sort=True, copy=True, on=\"cliente_user_agent\")\n",
        "ip_clients = dados.cliente_ip.unique()\n",
        "def get_country(ip):\n",
        "    try:\n",
        "        x = geo.get(ip)\n",
        "    except ValueError:\n",
        "        return np.nan\n",
        "    try:\n",
        "        return x['country']['names']['en'] if x else np.nan\n",
        "    except KeyError:\n",
        "        return np.nan\n",
        "\n",
        "geo = geolite2.reader()\n",
        "\n",
        "pais_ip =  pd.DataFrame({\"cliente_ip\":ip_clients}) \n",
        "# get unique IPs\n",
        "unique_ips = pais_ip['cliente_ip'].unique()\n",
        "# make series out of it\n",
        "unique_ips = pd.Series(unique_ips, index = unique_ips)\n",
        "# map IP --> country\n",
        "pais_ip['cliente_pais'] = pais_ip['cliente_ip'].map(unique_ips.apply(get_country))\n",
        "\n",
        "geolite2.close()\n",
        "dados =  pd.merge(dados, pais_ip , sort=True, copy=True, on=\"cliente_ip\")"
      ],
      "execution_count": 71,
      "outputs": []
    },
    {
      "cell_type": "code",
      "metadata": {
        "colab": {
          "base_uri": "https://localhost:8080/",
          "height": 16
        },
        "id": "nDzky_I6aa1d",
        "outputId": "6fa57930-9ec7-4129-8a2b-d487c31fb112"
      },
      "source": [
        "dados.to_csv('base.csv',index=False)\n",
        "files.download('base.csv')"
      ],
      "execution_count": 75,
      "outputs": [
        {
          "output_type": "display_data",
          "data": {
            "application/javascript": [
              "\n",
              "    async function download(id, filename, size) {\n",
              "      if (!google.colab.kernel.accessAllowed) {\n",
              "        return;\n",
              "      }\n",
              "      const div = document.createElement('div');\n",
              "      const label = document.createElement('label');\n",
              "      label.textContent = `Downloading \"${filename}\": `;\n",
              "      div.appendChild(label);\n",
              "      const progress = document.createElement('progress');\n",
              "      progress.max = size;\n",
              "      div.appendChild(progress);\n",
              "      document.body.appendChild(div);\n",
              "\n",
              "      const buffers = [];\n",
              "      let downloaded = 0;\n",
              "\n",
              "      const channel = await google.colab.kernel.comms.open(id);\n",
              "      // Send a message to notify the kernel that we're ready.\n",
              "      channel.send({})\n",
              "\n",
              "      for await (const message of channel.messages) {\n",
              "        // Send a message to notify the kernel that we're ready.\n",
              "        channel.send({})\n",
              "        if (message.buffers) {\n",
              "          for (const buffer of message.buffers) {\n",
              "            buffers.push(buffer);\n",
              "            downloaded += buffer.byteLength;\n",
              "            progress.value = downloaded;\n",
              "          }\n",
              "        }\n",
              "      }\n",
              "      const blob = new Blob(buffers, {type: 'application/binary'});\n",
              "      const a = document.createElement('a');\n",
              "      a.href = window.URL.createObjectURL(blob);\n",
              "      a.download = filename;\n",
              "      div.appendChild(a);\n",
              "      a.click();\n",
              "      div.remove();\n",
              "    }\n",
              "  "
            ],
            "text/plain": [
              "<IPython.core.display.Javascript object>"
            ]
          },
          "metadata": {
            "tags": []
          }
        },
        {
          "output_type": "display_data",
          "data": {
            "application/javascript": [
              "download(\"download_1ce60665-ec9d-48c5-b2e7-c4049c7c04c6\", \"base.csv\", 15905601)"
            ],
            "text/plain": [
              "<IPython.core.display.Javascript object>"
            ]
          },
          "metadata": {
            "tags": []
          }
        }
      ]
    }
  ]
}